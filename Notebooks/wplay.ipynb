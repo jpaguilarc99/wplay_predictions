{
 "cells": [
  {
   "cell_type": "code",
   "execution_count": 1,
   "metadata": {},
   "outputs": [
    {
     "data": {
      "text/plain": [
       "'2.0.1'"
      ]
     },
     "execution_count": 1,
     "metadata": {},
     "output_type": "execute_result"
    }
   ],
   "source": [
    "import torch\n",
    "import pandas as pd  \n",
    "import numpy as np  \n",
    "import matplotlib.pyplot as plt\n",
    "torch.__version__"
   ]
  },
  {
   "cell_type": "markdown",
   "metadata": {},
   "source": [
    "**Dataset**"
   ]
  },
  {
   "cell_type": "code",
   "execution_count": 2,
   "metadata": {},
   "outputs": [
    {
     "data": {
      "text/html": [
       "<div>\n",
       "<style scoped>\n",
       "    .dataframe tbody tr th:only-of-type {\n",
       "        vertical-align: middle;\n",
       "    }\n",
       "\n",
       "    .dataframe tbody tr th {\n",
       "        vertical-align: top;\n",
       "    }\n",
       "\n",
       "    .dataframe thead th {\n",
       "        text-align: right;\n",
       "    }\n",
       "</style>\n",
       "<table border=\"1\" class=\"dataframe\">\n",
       "  <thead>\n",
       "    <tr style=\"text-align: right;\">\n",
       "      <th></th>\n",
       "      <th>G1T1FT</th>\n",
       "      <th>G2T1FT</th>\n",
       "      <th>G3T1FT</th>\n",
       "      <th>G4T1FT</th>\n",
       "      <th>G5T1FT</th>\n",
       "      <th>G1T2FT</th>\n",
       "      <th>G2T2FT</th>\n",
       "      <th>G3T2FT</th>\n",
       "      <th>G4T2FT</th>\n",
       "      <th>G5T2FT</th>\n",
       "      <th>...</th>\n",
       "      <th>GAL1GT2ST</th>\n",
       "      <th>LN</th>\n",
       "      <th>T1</th>\n",
       "      <th>T2</th>\n",
       "      <th>PAL1GFT</th>\n",
       "      <th>PAL1GST</th>\n",
       "      <th>DG</th>\n",
       "      <th>TIMESTAMP</th>\n",
       "      <th>target</th>\n",
       "      <th>noise</th>\n",
       "    </tr>\n",
       "  </thead>\n",
       "  <tbody>\n",
       "    <tr>\n",
       "      <th>0</th>\n",
       "      <td>0</td>\n",
       "      <td>1</td>\n",
       "      <td>0</td>\n",
       "      <td>0</td>\n",
       "      <td>0</td>\n",
       "      <td>1</td>\n",
       "      <td>0</td>\n",
       "      <td>0</td>\n",
       "      <td>0</td>\n",
       "      <td>0</td>\n",
       "      <td>...</td>\n",
       "      <td>0</td>\n",
       "      <td>SUDAMÉRICA: COPA LIBERTADORES SUB-20 - JORNADA 3</td>\n",
       "      <td>Huachipato Sub-20 (Chi)</td>\n",
       "      <td>Defensor Sp. Sub-20 (Uru)</td>\n",
       "      <td>0.36</td>\n",
       "      <td>0.20</td>\n",
       "      <td>09-07-2023 14:00</td>\n",
       "      <td>1688847909</td>\n",
       "      <td>0</td>\n",
       "      <td>-1.417284</td>\n",
       "    </tr>\n",
       "    <tr>\n",
       "      <th>1</th>\n",
       "      <td>0</td>\n",
       "      <td>1</td>\n",
       "      <td>0</td>\n",
       "      <td>0</td>\n",
       "      <td>0</td>\n",
       "      <td>1</td>\n",
       "      <td>2</td>\n",
       "      <td>3</td>\n",
       "      <td>1</td>\n",
       "      <td>1</td>\n",
       "      <td>...</td>\n",
       "      <td>2</td>\n",
       "      <td>SUDAMÉRICA: COPA LIBERTADORES SUB-20 - JORNADA 3</td>\n",
       "      <td>Boca Jrs. Sub-20 (Arg)</td>\n",
       "      <td>Palmeiras Sub-20 (Bra)</td>\n",
       "      <td>1.00</td>\n",
       "      <td>0.40</td>\n",
       "      <td>09-07-2023 17:00</td>\n",
       "      <td>1688847919</td>\n",
       "      <td>0</td>\n",
       "      <td>0.664096</td>\n",
       "    </tr>\n",
       "    <tr>\n",
       "      <th>2</th>\n",
       "      <td>0</td>\n",
       "      <td>1</td>\n",
       "      <td>0</td>\n",
       "      <td>1</td>\n",
       "      <td>1</td>\n",
       "      <td>2</td>\n",
       "      <td>0</td>\n",
       "      <td>0</td>\n",
       "      <td>0</td>\n",
       "      <td>0</td>\n",
       "      <td>...</td>\n",
       "      <td>4</td>\n",
       "      <td>ÁFRICA: COSAFA CUP</td>\n",
       "      <td>Zambia</td>\n",
       "      <td>Comores</td>\n",
       "      <td>0.68</td>\n",
       "      <td>0.92</td>\n",
       "      <td>09-07-2023 08:00</td>\n",
       "      <td>1688847934</td>\n",
       "      <td>1</td>\n",
       "      <td>-0.360942</td>\n",
       "    </tr>\n",
       "    <tr>\n",
       "      <th>3</th>\n",
       "      <td>1</td>\n",
       "      <td>0</td>\n",
       "      <td>0</td>\n",
       "      <td>0</td>\n",
       "      <td>0</td>\n",
       "      <td>0</td>\n",
       "      <td>0</td>\n",
       "      <td>0</td>\n",
       "      <td>0</td>\n",
       "      <td>0</td>\n",
       "      <td>...</td>\n",
       "      <td>1</td>\n",
       "      <td>ÁFRICA: COSAFA CUP</td>\n",
       "      <td>Malaui</td>\n",
       "      <td>Seychelles</td>\n",
       "      <td>0.20</td>\n",
       "      <td>0.36</td>\n",
       "      <td>09-07-2023 11:00</td>\n",
       "      <td>1688847947</td>\n",
       "      <td>1</td>\n",
       "      <td>0.131080</td>\n",
       "    </tr>\n",
       "    <tr>\n",
       "      <th>4</th>\n",
       "      <td>0</td>\n",
       "      <td>1</td>\n",
       "      <td>1</td>\n",
       "      <td>1</td>\n",
       "      <td>1</td>\n",
       "      <td>0</td>\n",
       "      <td>0</td>\n",
       "      <td>0</td>\n",
       "      <td>0</td>\n",
       "      <td>0</td>\n",
       "      <td>...</td>\n",
       "      <td>2</td>\n",
       "      <td>ARGENTINA: LIGA PROFESIONAL - JORNADA 24</td>\n",
       "      <td>Instituto</td>\n",
       "      <td>Tigre</td>\n",
       "      <td>0.80</td>\n",
       "      <td>0.52</td>\n",
       "      <td>09-07-2023 13:30</td>\n",
       "      <td>1688847960</td>\n",
       "      <td>0</td>\n",
       "      <td>0.677638</td>\n",
       "    </tr>\n",
       "  </tbody>\n",
       "</table>\n",
       "<p>5 rows × 37 columns</p>\n",
       "</div>"
      ],
      "text/plain": [
       "   G1T1FT  G2T1FT  G3T1FT  G4T1FT  G5T1FT  G1T2FT  G2T2FT  G3T2FT  G4T2FT  \\\n",
       "0       0       1       0       0       0       1       0       0       0   \n",
       "1       0       1       0       0       0       1       2       3       1   \n",
       "2       0       1       0       1       1       2       0       0       0   \n",
       "3       1       0       0       0       0       0       0       0       0   \n",
       "4       0       1       1       1       1       0       0       0       0   \n",
       "\n",
       "   G5T2FT  ...  GAL1GT2ST                                                LN  \\\n",
       "0       0  ...          0  SUDAMÉRICA: COPA LIBERTADORES SUB-20 - JORNADA 3   \n",
       "1       1  ...          2  SUDAMÉRICA: COPA LIBERTADORES SUB-20 - JORNADA 3   \n",
       "2       0  ...          4                                ÁFRICA: COSAFA CUP   \n",
       "3       0  ...          1                                ÁFRICA: COSAFA CUP   \n",
       "4       0  ...          2          ARGENTINA: LIGA PROFESIONAL - JORNADA 24   \n",
       "\n",
       "                        T1                         T2  PAL1GFT  PAL1GST  \\\n",
       "0  Huachipato Sub-20 (Chi)  Defensor Sp. Sub-20 (Uru)     0.36     0.20   \n",
       "1   Boca Jrs. Sub-20 (Arg)     Palmeiras Sub-20 (Bra)     1.00     0.40   \n",
       "2                   Zambia                    Comores     0.68     0.92   \n",
       "3                   Malaui                 Seychelles     0.20     0.36   \n",
       "4                Instituto                      Tigre     0.80     0.52   \n",
       "\n",
       "                 DG   TIMESTAMP  target     noise  \n",
       "0  09-07-2023 14:00  1688847909       0 -1.417284  \n",
       "1  09-07-2023 17:00  1688847919       0  0.664096  \n",
       "2  09-07-2023 08:00  1688847934       1 -0.360942  \n",
       "3  09-07-2023 11:00  1688847947       1  0.131080  \n",
       "4  09-07-2023 13:30  1688847960       0  0.677638  \n",
       "\n",
       "[5 rows x 37 columns]"
      ]
     },
     "execution_count": 2,
     "metadata": {},
     "output_type": "execute_result"
    }
   ],
   "source": [
    "df_path = \"data/noisy_training_data.xlsx\"\n",
    "df = pd.read_excel(df_path)\n",
    "df.head()"
   ]
  },
  {
   "cell_type": "code",
   "execution_count": 3,
   "metadata": {},
   "outputs": [
    {
     "data": {
      "image/png": "[encoded data removed]",
      "text/plain": [
       "<Figure size 640x480 with 1 Axes>"
      ]
     },
     "metadata": {},
     "output_type": "display_data"
    }
   ],
   "source": [
    "import seaborn as sns\n",
    "from sklearn import decomposition\n",
    "sns.set()\n",
    "pca = decomposition.PCA(n_components=2)\n",
    "\n",
    "X = df.drop([\"target\", \"DG\", \"TIMESTAMP\",\n",
    "             \"PAL1GFT\", \"PAL1GST\", \"LN\",\n",
    "             \"T1\", \"T2\"], axis=1)\n",
    "y = df[\"target\"].values\n",
    "\n",
    "vecs = pca.fit_transform(X)\n",
    "x0 = vecs[:, 0]\n",
    "x1 = vecs[:, 1]\n",
    "\n",
    "sns.set_style(\"whitegrid\")\n",
    "sns.scatterplot(x=x0, y=x1, hue=y)\n",
    "plt.title(\"Proyección PCA\")\n",
    "plt.xlabel(\"PCA 1\")\n",
    "plt.ylabel(\"PCA 1\")\n",
    "plt.xticks([])\n",
    "plt.yticks([])\n",
    "plt.show()"
   ]
  },
  {
   "cell_type": "markdown",
   "metadata": {},
   "source": [
    "**Custom PyTorch Dataset class**"
   ]
  },
  {
   "cell_type": "code",
   "execution_count": 4,
   "metadata": {},
   "outputs": [],
   "source": [
    "from torch.utils.data import Dataset\n",
    "\n",
    "class SoccerScoresDataset(Dataset):\n",
    "    def __init__(self, X, y):\n",
    "        # tensor de variables predictoras\n",
    "        self.features = torch.tensor(X, dtype=torch.float32)\n",
    "        # tensor de variable objetivo\n",
    "        self.labels = torch.tensor(y, dtype=torch.float32)\n",
    "\n",
    "    def __len__(self):\n",
    "        # retorna el length del dataset\n",
    "        return self.features.shape[0]\n",
    "    \n",
    "    def __getitem__(self, idx):\n",
    "        # método que permite indexar y hacer slicing del dataset\n",
    "        x = self.features[idx]\n",
    "        y = self.labels[idx]\n",
    "        return x, y"
   ]
  },
  {
   "cell_type": "markdown",
   "metadata": {},
   "source": [
    "**Esquema de validación**"
   ]
  },
  {
   "cell_type": "code",
   "execution_count": 5,
   "metadata": {},
   "outputs": [
    {
     "data": {
      "text/plain": [
       "((188, 29), (31, 29), (32, 29))"
      ]
     },
     "execution_count": 5,
     "metadata": {},
     "output_type": "execute_result"
    }
   ],
   "source": [
    "from sklearn import model_selection\n",
    "\n",
    "train_ratio = 0.75\n",
    "validation_ratio = 0.20\n",
    "test_ratio = 0.20\n",
    "\n",
    "X_train, X_test, y_train, y_test = model_selection.train_test_split(X, y,\n",
    "                                                                    test_size=1 - train_ratio)\n",
    "\n",
    "X_val, X_test, y_val, y_test = model_selection.train_test_split(X_test, y_test,\n",
    "                                                                    test_size=test_ratio/(test_ratio + validation_ratio))\n",
    "X_train.shape, X_val.shape, X_test.shape"
   ]
  },
  {
   "cell_type": "markdown",
   "metadata": {},
   "source": [
    "**Normalización de los datos**"
   ]
  },
  {
   "cell_type": "code",
   "execution_count": 6,
   "metadata": {},
   "outputs": [],
   "source": [
    "from sklearn import preprocessing\n",
    "scaler = preprocessing.StandardScaler()\n",
    "\n",
    "x_train_scaled = scaler.fit_transform(X_train)\n",
    "x_val_scaled = scaler.transform(X_val)\n",
    "x_test_scaled = scaler.transform(X_test)"
   ]
  },
  {
   "cell_type": "markdown",
   "metadata": {},
   "source": [
    "**Instanciamos los datos escalados al SoccerScoreDataset**"
   ]
  },
  {
   "cell_type": "code",
   "execution_count": 7,
   "metadata": {},
   "outputs": [],
   "source": [
    "train_dataset = SoccerScoresDataset(x_train_scaled, y_train)\n",
    "val_dataset = SoccerScoresDataset(x_val_scaled, y_val)\n",
    "test_dataset = SoccerScoresDataset(x_test_scaled, y_test)"
   ]
  },
  {
   "cell_type": "markdown",
   "metadata": {},
   "source": [
    "**DataLoader class**"
   ]
  },
  {
   "cell_type": "code",
   "execution_count": 8,
   "metadata": {},
   "outputs": [],
   "source": [
    "from torch.utils.data import DataLoader\n",
    "\n",
    "train_loader = DataLoader(\n",
    "    dataset=train_dataset,\n",
    "    batch_size=16,\n",
    "    shuffle=True,\n",
    "    drop_last=True\n",
    ")\n",
    "val_loader = DataLoader(\n",
    "    dataset=val_dataset,\n",
    "    batch_size=16,\n",
    "    shuffle=False,\n",
    "    drop_last=True\n",
    ")\n",
    "test_loader = DataLoader(\n",
    "    dataset=test_dataset,\n",
    "    batch_size=16,\n",
    "    shuffle=False,\n",
    "    drop_last=True\n",
    ")"
   ]
  },
  {
   "cell_type": "markdown",
   "metadata": {},
   "source": [
    "**Modelo**"
   ]
  },
  {
   "cell_type": "code",
   "execution_count": 9,
   "metadata": {},
   "outputs": [],
   "source": [
    "import torch.nn as nn\n",
    "\n",
    "class LogisticRegression(nn.Module):\n",
    "    \"\"\"\n",
    "    Atributos:    \n",
    "        num_features - number of features to learn from\n",
    "        num_classes: number of classes in output to expect (in this case, 1 or 2, since the output is binary (0 or 1))\n",
    "    \"\"\"\n",
    "    def __init__(self, num_features, num_classes):\n",
    "        super(LogisticRegression, self).__init__()\n",
    "        self.num_features = num_features # 29\n",
    "        self.num_classes = num_classes # 1\n",
    "        # linear layer\n",
    "        self.linear1 = nn.Linear(num_features, num_classes) # 1x29\n",
    "        self.sigmoid = nn.Sigmoid()\n",
    "\n",
    "    def forward(self, x):\n",
    "        logits = self.linear1(x)\n",
    "        probs = self.sigmoid(logits)\n",
    "        return probs # retorna las probabilidades de cada clase\n"
   ]
  },
  {
   "cell_type": "markdown",
   "metadata": {},
   "source": [
    "**Funciones de utilidad**"
   ]
  },
  {
   "cell_type": "code",
   "execution_count": 10,
   "metadata": {},
   "outputs": [],
   "source": [
    "def compute_accuracy(model, dataloader):\n",
    "    model = model.eval()\n",
    "    correct = 0\n",
    "    total_examples = 0\n",
    "    for idx, (features, labels) in enumerate(dataloader):\n",
    "        with torch.no_grad():\n",
    "            logits = model(features)\n",
    "        predictions = torch.where(logits > 0.5, 1, 0)\n",
    "        lab = labels.view(predictions.shape)\n",
    "        comparison = lab == predictions\n",
    "\n",
    "        correct += torch.sum(comparison)\n",
    "        total_examples += len(comparison)\n",
    "    return correct / total_examples\n",
    "\n",
    "def plot_results(train_loss, val_loss, train_acc, val_acc):\n",
    "    fig, ax = plt.subplots(1, 2, figsize=(15, 5))\n",
    "    ax[0].plot(\n",
    "        train_loss, label=\"train\", color=\"red\", linestyle=\"--\", linewidth=2, alpha=0.5\n",
    "    )\n",
    "    ax[0].plot(\n",
    "        val_loss, label=\"val\", color=\"blue\", linestyle=\"--\", linewidth=2, alpha=0.5\n",
    "    )\n",
    "    ax[0].set_xlabel(\"Epoch\")\n",
    "    ax[0].set_ylabel(\"Loss\")\n",
    "    ax[0].legend()\n",
    "    ax[1].plot(\n",
    "        train_acc, label=\"train\", color=\"red\", linestyle=\"--\", linewidth=2, alpha=0.5\n",
    "    )\n",
    "    ax[1].plot(\n",
    "        val_acc, label=\"val\", color=\"blue\", linestyle=\"--\", linewidth=2, alpha=0.5\n",
    "    )\n",
    "    ax[1].set_xlabel(\"Epoch\")\n",
    "    ax[1].set_ylabel(\"Accuracy\")\n",
    "    ax[1].legend()\n",
    "    plt.show()"
   ]
  },
  {
   "cell_type": "markdown",
   "metadata": {},
   "source": [
    "**Training Loop**"
   ]
  },
  {
   "cell_type": "code",
   "execution_count": 21,
   "metadata": {},
   "outputs": [
    {
     "name": "stdout",
     "output_type": "stream",
     "text": [
      "Epoch 01/100 | Batch 00/11 | Train Loss 0.714\n",
      "Epoch 01/100 | Batch 10/11 | Train Loss 0.685\n",
      "Train accuracy: 0.56 | Val accuracy: 0.62\n",
      "Epoch 02/100 | Batch 00/11 | Train Loss 0.608\n",
      "Epoch 02/100 | Batch 10/11 | Train Loss 0.687\n",
      "Train accuracy: 0.61 | Val accuracy: 0.62\n",
      "Epoch 03/100 | Batch 00/11 | Train Loss 0.730\n",
      "Epoch 03/100 | Batch 10/11 | Train Loss 0.766\n",
      "Train accuracy: 0.62 | Val accuracy: 0.69\n",
      "Epoch 04/100 | Batch 00/11 | Train Loss 0.496\n",
      "Epoch 04/100 | Batch 10/11 | Train Loss 0.768\n",
      "Train accuracy: 0.66 | Val accuracy: 0.69\n",
      "Epoch 05/100 | Batch 00/11 | Train Loss 0.637\n",
      "Epoch 05/100 | Batch 10/11 | Train Loss 0.535\n",
      "Train accuracy: 0.68 | Val accuracy: 0.75\n",
      "Epoch 06/100 | Batch 00/11 | Train Loss 0.598\n",
      "Epoch 06/100 | Batch 10/11 | Train Loss 0.608\n",
      "Train accuracy: 0.73 | Val accuracy: 0.75\n",
      "Epoch 07/100 | Batch 00/11 | Train Loss 0.493\n",
      "Epoch 07/100 | Batch 10/11 | Train Loss 0.615\n",
      "Train accuracy: 0.76 | Val accuracy: 0.75\n",
      "Epoch 08/100 | Batch 00/11 | Train Loss 0.506\n",
      "Epoch 08/100 | Batch 10/11 | Train Loss 0.538\n",
      "Train accuracy: 0.77 | Val accuracy: 0.81\n",
      "Epoch 09/100 | Batch 00/11 | Train Loss 0.492\n",
      "Epoch 09/100 | Batch 10/11 | Train Loss 0.503\n",
      "Train accuracy: 0.78 | Val accuracy: 0.88\n",
      "Epoch 10/100 | Batch 00/11 | Train Loss 0.451\n",
      "Epoch 10/100 | Batch 10/11 | Train Loss 0.501\n",
      "Train accuracy: 0.81 | Val accuracy: 0.88\n",
      "Epoch 11/100 | Batch 00/11 | Train Loss 0.546\n",
      "Epoch 11/100 | Batch 10/11 | Train Loss 0.558\n",
      "Train accuracy: 0.84 | Val accuracy: 0.81\n",
      "Epoch 12/100 | Batch 00/11 | Train Loss 0.429\n",
      "Epoch 12/100 | Batch 10/11 | Train Loss 0.510\n",
      "Train accuracy: 0.83 | Val accuracy: 0.81\n",
      "Epoch 13/100 | Batch 00/11 | Train Loss 0.556\n",
      "Epoch 13/100 | Batch 10/11 | Train Loss 0.389\n",
      "Train accuracy: 0.84 | Val accuracy: 0.88\n",
      "Epoch 14/100 | Batch 00/11 | Train Loss 0.545\n",
      "Epoch 14/100 | Batch 10/11 | Train Loss 0.397\n",
      "Train accuracy: 0.84 | Val accuracy: 0.88\n",
      "Epoch 15/100 | Batch 00/11 | Train Loss 0.568\n",
      "Epoch 15/100 | Batch 10/11 | Train Loss 0.493\n",
      "Train accuracy: 0.85 | Val accuracy: 0.88\n",
      "Epoch 16/100 | Batch 00/11 | Train Loss 0.460\n",
      "Epoch 16/100 | Batch 10/11 | Train Loss 0.409\n",
      "Train accuracy: 0.86 | Val accuracy: 0.88\n",
      "Epoch 17/100 | Batch 00/11 | Train Loss 0.464\n",
      "Epoch 17/100 | Batch 10/11 | Train Loss 0.405\n",
      "Train accuracy: 0.87 | Val accuracy: 0.88\n",
      "Epoch 18/100 | Batch 00/11 | Train Loss 0.497\n",
      "Epoch 18/100 | Batch 10/11 | Train Loss 0.398\n",
      "Train accuracy: 0.88 | Val accuracy: 0.88\n",
      "Epoch 19/100 | Batch 00/11 | Train Loss 0.476\n",
      "Epoch 19/100 | Batch 10/11 | Train Loss 0.404\n",
      "Train accuracy: 0.88 | Val accuracy: 0.88\n",
      "Epoch 20/100 | Batch 00/11 | Train Loss 0.422\n",
      "Epoch 20/100 | Batch 10/11 | Train Loss 0.343\n",
      "Train accuracy: 0.88 | Val accuracy: 0.88\n",
      "Epoch 21/100 | Batch 00/11 | Train Loss 0.432\n",
      "Epoch 21/100 | Batch 10/11 | Train Loss 0.524\n",
      "Train accuracy: 0.88 | Val accuracy: 0.88\n",
      "Epoch 22/100 | Batch 00/11 | Train Loss 0.462\n",
      "Epoch 22/100 | Batch 10/11 | Train Loss 0.346\n",
      "Train accuracy: 0.90 | Val accuracy: 0.88\n",
      "Epoch 23/100 | Batch 00/11 | Train Loss 0.352\n",
      "Epoch 23/100 | Batch 10/11 | Train Loss 0.282\n",
      "Train accuracy: 0.89 | Val accuracy: 0.88\n",
      "Epoch 24/100 | Batch 00/11 | Train Loss 0.364\n",
      "Epoch 24/100 | Batch 10/11 | Train Loss 0.363\n",
      "Train accuracy: 0.89 | Val accuracy: 0.88\n",
      "Epoch 25/100 | Batch 00/11 | Train Loss 0.442\n",
      "Epoch 25/100 | Batch 10/11 | Train Loss 0.558\n",
      "Train accuracy: 0.90 | Val accuracy: 0.94\n",
      "Epoch 26/100 | Batch 00/11 | Train Loss 0.537\n",
      "Epoch 26/100 | Batch 10/11 | Train Loss 0.410\n",
      "Train accuracy: 0.89 | Val accuracy: 0.94\n",
      "Epoch 27/100 | Batch 00/11 | Train Loss 0.502\n",
      "Epoch 27/100 | Batch 10/11 | Train Loss 0.373\n",
      "Train accuracy: 0.90 | Val accuracy: 0.94\n",
      "Epoch 28/100 | Batch 00/11 | Train Loss 0.344\n",
      "Epoch 28/100 | Batch 10/11 | Train Loss 0.404\n",
      "Train accuracy: 0.89 | Val accuracy: 0.94\n",
      "Epoch 29/100 | Batch 00/11 | Train Loss 0.391\n",
      "Epoch 29/100 | Batch 10/11 | Train Loss 0.505\n",
      "Train accuracy: 0.89 | Val accuracy: 0.94\n",
      "Epoch 30/100 | Batch 00/11 | Train Loss 0.294\n",
      "Epoch 30/100 | Batch 10/11 | Train Loss 0.322\n",
      "Train accuracy: 0.90 | Val accuracy: 0.94\n",
      "Epoch 31/100 | Batch 00/11 | Train Loss 0.334\n",
      "Epoch 31/100 | Batch 10/11 | Train Loss 0.388\n",
      "Train accuracy: 0.89 | Val accuracy: 0.94\n",
      "Epoch 32/100 | Batch 00/11 | Train Loss 0.418\n",
      "Epoch 32/100 | Batch 10/11 | Train Loss 0.380\n",
      "Train accuracy: 0.90 | Val accuracy: 0.94\n",
      "Epoch 33/100 | Batch 00/11 | Train Loss 0.409\n",
      "Epoch 33/100 | Batch 10/11 | Train Loss 0.435\n",
      "Train accuracy: 0.91 | Val accuracy: 0.94\n",
      "Epoch 34/100 | Batch 00/11 | Train Loss 0.326\n",
      "Epoch 34/100 | Batch 10/11 | Train Loss 0.335\n",
      "Train accuracy: 0.93 | Val accuracy: 0.94\n",
      "Epoch 35/100 | Batch 00/11 | Train Loss 0.288\n",
      "Epoch 35/100 | Batch 10/11 | Train Loss 0.280\n",
      "Train accuracy: 0.92 | Val accuracy: 0.94\n",
      "Epoch 36/100 | Batch 00/11 | Train Loss 0.245\n",
      "Epoch 36/100 | Batch 10/11 | Train Loss 0.354\n",
      "Train accuracy: 0.93 | Val accuracy: 0.94\n",
      "Epoch 37/100 | Batch 00/11 | Train Loss 0.265\n",
      "Epoch 37/100 | Batch 10/11 | Train Loss 0.392\n",
      "Train accuracy: 0.91 | Val accuracy: 0.94\n",
      "Epoch 38/100 | Batch 00/11 | Train Loss 0.304\n",
      "Epoch 38/100 | Batch 10/11 | Train Loss 0.490\n",
      "Train accuracy: 0.93 | Val accuracy: 0.94\n",
      "Epoch 39/100 | Batch 00/11 | Train Loss 0.359\n",
      "Epoch 39/100 | Batch 10/11 | Train Loss 0.394\n",
      "Train accuracy: 0.91 | Val accuracy: 0.94\n",
      "Epoch 40/100 | Batch 00/11 | Train Loss 0.269\n",
      "Epoch 40/100 | Batch 10/11 | Train Loss 0.282\n",
      "Train accuracy: 0.94 | Val accuracy: 0.94\n",
      "Epoch 41/100 | Batch 00/11 | Train Loss 0.370\n",
      "Epoch 41/100 | Batch 10/11 | Train Loss 0.251\n",
      "Train accuracy: 0.93 | Val accuracy: 0.94\n",
      "Epoch 42/100 | Batch 00/11 | Train Loss 0.485\n",
      "Epoch 42/100 | Batch 10/11 | Train Loss 0.409\n",
      "Train accuracy: 0.91 | Val accuracy: 0.94\n",
      "Epoch 43/100 | Batch 00/11 | Train Loss 0.347\n",
      "Epoch 43/100 | Batch 10/11 | Train Loss 0.379\n",
      "Train accuracy: 0.91 | Val accuracy: 0.94\n",
      "Epoch 44/100 | Batch 00/11 | Train Loss 0.320\n",
      "Epoch 44/100 | Batch 10/11 | Train Loss 0.308\n",
      "Train accuracy: 0.92 | Val accuracy: 0.94\n",
      "Epoch 45/100 | Batch 00/11 | Train Loss 0.196\n",
      "Epoch 45/100 | Batch 10/11 | Train Loss 0.392\n",
      "Train accuracy: 0.94 | Val accuracy: 0.94\n",
      "Epoch 46/100 | Batch 00/11 | Train Loss 0.342\n",
      "Epoch 46/100 | Batch 10/11 | Train Loss 0.263\n",
      "Train accuracy: 0.92 | Val accuracy: 0.94\n",
      "Epoch 47/100 | Batch 00/11 | Train Loss 0.469\n",
      "Epoch 47/100 | Batch 10/11 | Train Loss 0.290\n",
      "Train accuracy: 0.93 | Val accuracy: 0.94\n",
      "Epoch 48/100 | Batch 00/11 | Train Loss 0.202\n",
      "Epoch 48/100 | Batch 10/11 | Train Loss 0.285\n",
      "Train accuracy: 0.93 | Val accuracy: 0.94\n",
      "Epoch 49/100 | Batch 00/11 | Train Loss 0.310\n",
      "Epoch 49/100 | Batch 10/11 | Train Loss 0.334\n",
      "Train accuracy: 0.93 | Val accuracy: 0.94\n",
      "Epoch 50/100 | Batch 00/11 | Train Loss 0.249\n",
      "Epoch 50/100 | Batch 10/11 | Train Loss 0.377\n",
      "Train accuracy: 0.94 | Val accuracy: 0.94\n",
      "Epoch 51/100 | Batch 00/11 | Train Loss 0.287\n",
      "Epoch 51/100 | Batch 10/11 | Train Loss 0.235\n",
      "Train accuracy: 0.94 | Val accuracy: 0.94\n",
      "Epoch 52/100 | Batch 00/11 | Train Loss 0.273\n",
      "Epoch 52/100 | Batch 10/11 | Train Loss 0.261\n",
      "Train accuracy: 0.93 | Val accuracy: 0.94\n",
      "Epoch 53/100 | Batch 00/11 | Train Loss 0.273\n",
      "Epoch 53/100 | Batch 10/11 | Train Loss 0.268\n",
      "Train accuracy: 0.93 | Val accuracy: 0.94\n",
      "Epoch 54/100 | Batch 00/11 | Train Loss 0.207\n",
      "Epoch 54/100 | Batch 10/11 | Train Loss 0.270\n",
      "Train accuracy: 0.93 | Val accuracy: 0.94\n",
      "Epoch 55/100 | Batch 00/11 | Train Loss 0.244\n",
      "Epoch 55/100 | Batch 10/11 | Train Loss 0.286\n",
      "Train accuracy: 0.93 | Val accuracy: 0.94\n",
      "Epoch 56/100 | Batch 00/11 | Train Loss 0.341\n",
      "Epoch 56/100 | Batch 10/11 | Train Loss 0.536\n",
      "Train accuracy: 0.93 | Val accuracy: 0.94\n",
      "Epoch 57/100 | Batch 00/11 | Train Loss 0.288\n",
      "Epoch 57/100 | Batch 10/11 | Train Loss 0.317\n",
      "Train accuracy: 0.93 | Val accuracy: 0.94\n",
      "Epoch 58/100 | Batch 00/11 | Train Loss 0.257\n",
      "Epoch 58/100 | Batch 10/11 | Train Loss 0.333\n",
      "Train accuracy: 0.94 | Val accuracy: 0.94\n",
      "Epoch 59/100 | Batch 00/11 | Train Loss 0.281\n",
      "Epoch 59/100 | Batch 10/11 | Train Loss 0.347\n",
      "Train accuracy: 0.94 | Val accuracy: 0.94\n",
      "Epoch 60/100 | Batch 00/11 | Train Loss 0.257\n",
      "Epoch 60/100 | Batch 10/11 | Train Loss 0.466\n",
      "Train accuracy: 0.94 | Val accuracy: 0.94\n",
      "Epoch 61/100 | Batch 00/11 | Train Loss 0.303\n",
      "Epoch 61/100 | Batch 10/11 | Train Loss 0.300\n",
      "Train accuracy: 0.94 | Val accuracy: 0.94\n",
      "Epoch 62/100 | Batch 00/11 | Train Loss 0.339\n",
      "Epoch 62/100 | Batch 10/11 | Train Loss 0.428\n",
      "Train accuracy: 0.94 | Val accuracy: 0.94\n",
      "Epoch 63/100 | Batch 00/11 | Train Loss 0.409\n",
      "Epoch 63/100 | Batch 10/11 | Train Loss 0.268\n",
      "Train accuracy: 0.94 | Val accuracy: 0.94\n",
      "Epoch 64/100 | Batch 00/11 | Train Loss 0.251\n",
      "Epoch 64/100 | Batch 10/11 | Train Loss 0.221\n",
      "Train accuracy: 0.94 | Val accuracy: 0.94\n",
      "Epoch 65/100 | Batch 00/11 | Train Loss 0.258\n",
      "Epoch 65/100 | Batch 10/11 | Train Loss 0.307\n",
      "Train accuracy: 0.94 | Val accuracy: 0.94\n",
      "Epoch 66/100 | Batch 00/11 | Train Loss 0.358\n",
      "Epoch 66/100 | Batch 10/11 | Train Loss 0.217\n",
      "Train accuracy: 0.95 | Val accuracy: 0.94\n",
      "Epoch 67/100 | Batch 00/11 | Train Loss 0.184\n",
      "Epoch 67/100 | Batch 10/11 | Train Loss 0.298\n",
      "Train accuracy: 0.94 | Val accuracy: 0.94\n",
      "Epoch 68/100 | Batch 00/11 | Train Loss 0.197\n",
      "Epoch 68/100 | Batch 10/11 | Train Loss 0.205\n",
      "Train accuracy: 0.94 | Val accuracy: 0.94\n",
      "Epoch 69/100 | Batch 00/11 | Train Loss 0.363\n",
      "Epoch 69/100 | Batch 10/11 | Train Loss 0.445\n",
      "Train accuracy: 0.94 | Val accuracy: 0.94\n",
      "Epoch 70/100 | Batch 00/11 | Train Loss 0.264\n",
      "Epoch 70/100 | Batch 10/11 | Train Loss 0.258\n",
      "Train accuracy: 0.94 | Val accuracy: 0.94\n",
      "Epoch 71/100 | Batch 00/11 | Train Loss 0.329\n",
      "Epoch 71/100 | Batch 10/11 | Train Loss 0.382\n",
      "Train accuracy: 0.94 | Val accuracy: 0.94\n",
      "Epoch 72/100 | Batch 00/11 | Train Loss 0.297\n",
      "Epoch 72/100 | Batch 10/11 | Train Loss 0.184\n",
      "Train accuracy: 0.94 | Val accuracy: 0.94\n",
      "Epoch 73/100 | Batch 00/11 | Train Loss 0.485\n",
      "Epoch 73/100 | Batch 10/11 | Train Loss 0.257\n",
      "Train accuracy: 0.94 | Val accuracy: 0.94\n",
      "Epoch 74/100 | Batch 00/11 | Train Loss 0.184\n",
      "Epoch 74/100 | Batch 10/11 | Train Loss 0.251\n",
      "Train accuracy: 0.94 | Val accuracy: 0.94\n",
      "Epoch 75/100 | Batch 00/11 | Train Loss 0.320\n",
      "Epoch 75/100 | Batch 10/11 | Train Loss 0.178\n",
      "Train accuracy: 0.93 | Val accuracy: 0.94\n",
      "Epoch 76/100 | Batch 00/11 | Train Loss 0.259\n",
      "Epoch 76/100 | Batch 10/11 | Train Loss 0.375\n",
      "Train accuracy: 0.94 | Val accuracy: 0.94\n",
      "Epoch 77/100 | Batch 00/11 | Train Loss 0.333\n",
      "Epoch 77/100 | Batch 10/11 | Train Loss 0.222\n",
      "Train accuracy: 0.93 | Val accuracy: 0.94\n",
      "Epoch 78/100 | Batch 00/11 | Train Loss 0.274\n",
      "Epoch 78/100 | Batch 10/11 | Train Loss 0.321\n",
      "Train accuracy: 0.93 | Val accuracy: 0.94\n",
      "Epoch 79/100 | Batch 00/11 | Train Loss 0.209\n",
      "Epoch 79/100 | Batch 10/11 | Train Loss 0.202\n",
      "Train accuracy: 0.93 | Val accuracy: 0.94\n",
      "Epoch 80/100 | Batch 00/11 | Train Loss 0.309\n",
      "Epoch 80/100 | Batch 10/11 | Train Loss 0.245\n",
      "Train accuracy: 0.93 | Val accuracy: 0.94\n",
      "Epoch 81/100 | Batch 00/11 | Train Loss 0.359\n",
      "Epoch 81/100 | Batch 10/11 | Train Loss 0.343\n",
      "Train accuracy: 0.94 | Val accuracy: 0.94\n",
      "Epoch 82/100 | Batch 00/11 | Train Loss 0.187\n",
      "Epoch 82/100 | Batch 10/11 | Train Loss 0.388\n",
      "Train accuracy: 0.94 | Val accuracy: 0.94\n",
      "Epoch 83/100 | Batch 00/11 | Train Loss 0.314\n",
      "Epoch 83/100 | Batch 10/11 | Train Loss 0.247\n",
      "Train accuracy: 0.94 | Val accuracy: 0.94\n",
      "Epoch 84/100 | Batch 00/11 | Train Loss 0.394\n",
      "Epoch 84/100 | Batch 10/11 | Train Loss 0.249\n",
      "Train accuracy: 0.95 | Val accuracy: 0.94\n",
      "Epoch 85/100 | Batch 00/11 | Train Loss 0.311\n",
      "Epoch 85/100 | Batch 10/11 | Train Loss 0.153\n",
      "Train accuracy: 0.94 | Val accuracy: 0.94\n",
      "Epoch 86/100 | Batch 00/11 | Train Loss 0.263\n",
      "Epoch 86/100 | Batch 10/11 | Train Loss 0.187\n",
      "Train accuracy: 0.93 | Val accuracy: 0.94\n",
      "Epoch 87/100 | Batch 00/11 | Train Loss 0.174\n",
      "Epoch 87/100 | Batch 10/11 | Train Loss 0.273\n",
      "Train accuracy: 0.94 | Val accuracy: 0.94\n",
      "Epoch 88/100 | Batch 00/11 | Train Loss 0.314\n",
      "Epoch 88/100 | Batch 10/11 | Train Loss 0.104\n",
      "Train accuracy: 0.93 | Val accuracy: 0.94\n",
      "Epoch 89/100 | Batch 00/11 | Train Loss 0.246\n",
      "Epoch 89/100 | Batch 10/11 | Train Loss 0.315\n",
      "Train accuracy: 0.94 | Val accuracy: 0.94\n",
      "Epoch 90/100 | Batch 00/11 | Train Loss 0.208\n",
      "Epoch 90/100 | Batch 10/11 | Train Loss 0.567\n",
      "Train accuracy: 0.94 | Val accuracy: 0.94\n",
      "Epoch 91/100 | Batch 00/11 | Train Loss 0.321\n",
      "Epoch 91/100 | Batch 10/11 | Train Loss 0.182\n",
      "Train accuracy: 0.93 | Val accuracy: 0.94\n",
      "Epoch 92/100 | Batch 00/11 | Train Loss 0.559\n",
      "Epoch 92/100 | Batch 10/11 | Train Loss 0.185\n",
      "Train accuracy: 0.94 | Val accuracy: 0.94\n",
      "Epoch 93/100 | Batch 00/11 | Train Loss 0.181\n",
      "Epoch 93/100 | Batch 10/11 | Train Loss 0.165\n",
      "Train accuracy: 0.94 | Val accuracy: 0.94\n",
      "Epoch 94/100 | Batch 00/11 | Train Loss 0.212\n",
      "Epoch 94/100 | Batch 10/11 | Train Loss 0.225\n",
      "Train accuracy: 0.94 | Val accuracy: 0.94\n",
      "Epoch 95/100 | Batch 00/11 | Train Loss 0.268\n",
      "Epoch 95/100 | Batch 10/11 | Train Loss 0.173\n",
      "Train accuracy: 0.93 | Val accuracy: 0.94\n",
      "Epoch 96/100 | Batch 00/11 | Train Loss 0.195\n",
      "Epoch 96/100 | Batch 10/11 | Train Loss 0.282\n",
      "Train accuracy: 0.94 | Val accuracy: 0.94\n",
      "Epoch 97/100 | Batch 00/11 | Train Loss 0.260\n",
      "Epoch 97/100 | Batch 10/11 | Train Loss 0.240\n",
      "Train accuracy: 0.93 | Val accuracy: 0.94\n",
      "Epoch 98/100 | Batch 00/11 | Train Loss 0.365\n",
      "Epoch 98/100 | Batch 10/11 | Train Loss 0.217\n",
      "Train accuracy: 0.93 | Val accuracy: 0.94\n",
      "Epoch 99/100 | Batch 00/11 | Train Loss 0.335\n",
      "Epoch 99/100 | Batch 10/11 | Train Loss 0.240\n",
      "Train accuracy: 0.95 | Val accuracy: 0.94\n",
      "Epoch 100/100 | Batch 00/11 | Train Loss 0.215\n",
      "Epoch 100/100 | Batch 10/11 | Train Loss 0.143\n",
      "Train accuracy: 0.94 | Val accuracy: 0.94\n"
     ]
    }
   ],
   "source": [
    "import torch.nn.functional as F\n",
    "num_epochs = 100\n",
    "learning_rate = 0.01\n",
    "\n",
    "model = LogisticRegression(num_features=x_train_scaled.shape[1], num_classes=1)\n",
    "optimizer = torch.optim.SGD(model.parameters(), lr=learning_rate)\n",
    "\n",
    "train_losses, val_losses = list(), list()\n",
    "train_accs, val_accs = list(), list() \n",
    "\n",
    "for epoch in range(num_epochs):\n",
    "    model = model.train()\n",
    "    t_loss_list, v_loss_list = [], []\n",
    "    for batch_idx, (features, labels) in enumerate(train_loader):\n",
    "        train_probs = model(features)\n",
    "        train_loss = F.binary_cross_entropy(train_probs, labels.view(train_probs.shape))\n",
    "\n",
    "        optimizer.zero_grad()\n",
    "        train_loss.backward()\n",
    "        optimizer.step()\n",
    "\n",
    "        if batch_idx % 10 == 0:\n",
    "            print(\n",
    "                f\"Epoch {epoch+1:02d}/{num_epochs:02d}\"\n",
    "                f\" | Batch {batch_idx:02d}/{len(train_loader):02d}\"\n",
    "                f\" | Train Loss {train_loss:.3f}\"\n",
    "            )\n",
    "        t_loss_list.append(train_loss.item())\n",
    "    \n",
    "    model = model.eval()\n",
    "    for batch_idx, (features, labels) in enumerate(val_loader):\n",
    "        with torch.no_grad():\n",
    "            val_probs = model(features)\n",
    "            val_loss = F.binary_cross_entropy(val_probs, labels.view(val_probs.shape))\n",
    "            v_loss_list.append(val_loss.item())\n",
    "\n",
    "    train_losses.append(np.mean(t_loss_list))\n",
    "    val_losses.append(np.mean(v_loss_list))\n",
    "\n",
    "    train_acc = compute_accuracy(model, train_loader)\n",
    "    val_acc = compute_accuracy(model, val_loader)\n",
    "\n",
    "    train_accs.append(train_acc)\n",
    "    val_accs.append(val_acc)\n",
    "\n",
    "    print(\n",
    "        f\"Train accuracy: {train_acc:.2f}\"\n",
    "        f\" | Val accuracy: {val_acc:.2f}\"\n",
    "    )"
   ]
  },
  {
   "cell_type": "markdown",
   "metadata": {},
   "source": [
    "**Performance evaluation**"
   ]
  },
  {
   "cell_type": "code",
   "execution_count": 12,
   "metadata": {},
   "outputs": [
    {
     "data": {
      "image/png": "[encoded data removed]",
      "text/plain": [
       "<Figure size 1500x500 with 2 Axes>"
      ]
     },
     "metadata": {},
     "output_type": "display_data"
    }
   ],
   "source": [
    "plot_results(train_losses, val_losses, train_accs, val_accs)"
   ]
  },
  {
   "cell_type": "markdown",
   "metadata": {},
   "source": [
    "**Predicciones**"
   ]
  },
  {
   "cell_type": "code",
   "execution_count": 13,
   "metadata": {},
   "outputs": [],
   "source": [
    "# transformamos todas las variables con el escalador\n",
    "X_scalled_all = scaler.transform(X)  \n",
    "\n",
    "# transformamos en tensores\n",
    "X_scalled_all_tensors = torch.tensor(X_scalled_all, dtype=torch.float32)\n",
    "\n",
    "# inferencia del modelo entrenado\n",
    "with torch.inference_mode():\n",
    "    logits = model(X_scalled_all_tensors)\n",
    "    predictions = torch.where(logits > 0.5, 1, 0)\n",
    "\n",
    "df[\"logits\"] = logits.numpy().flatten()\n",
    "df['predictions'] = predictions.numpy().flatten()"
   ]
  },
  {
   "cell_type": "code",
   "execution_count": 29,
   "metadata": {},
   "outputs": [],
   "source": [
    "df.to_excel(\"dataset_predicted.xlsx\")"
   ]
  },
  {
   "cell_type": "markdown",
   "metadata": {},
   "source": [
    "**Métricas de clasificación**"
   ]
  },
  {
   "cell_type": "code",
   "execution_count": 14,
   "metadata": {},
   "outputs": [
    {
     "name": "stdout",
     "output_type": "stream",
     "text": [
      "('              precision    recall  f1-score   support\\n'\n",
      " '\\n'\n",
      " '           0       0.91      0.88      0.90       104\\n'\n",
      " '           1       0.92      0.94      0.93       147\\n'\n",
      " '\\n'\n",
      " '    accuracy                           0.92       251\\n'\n",
      " '   macro avg       0.92      0.91      0.91       251\\n'\n",
      " 'weighted avg       0.92      0.92      0.92       251\\n')\n"
     ]
    }
   ],
   "source": [
    "from sklearn import metrics\n",
    "from pprint import pprint\n",
    "\n",
    "pprint(metrics.classification_report(y_pred=df.predictions, y_true=df.target))"
   ]
  },
  {
   "cell_type": "markdown",
   "metadata": {},
   "source": [
    "**Matriz de confusión**"
   ]
  },
  {
   "cell_type": "code",
   "execution_count": 15,
   "metadata": {},
   "outputs": [
    {
     "data": {
      "text/plain": [
       "array([[ 92,  12],\n",
       "       [  9, 138]], dtype=int64)"
      ]
     },
     "execution_count": 15,
     "metadata": {},
     "output_type": "execute_result"
    }
   ],
   "source": [
    "metrics.confusion_matrix(y_pred=df.predictions, y_true=df.target)"
   ]
  },
  {
   "cell_type": "code",
   "execution_count": 16,
   "metadata": {},
   "outputs": [
    {
     "data": {
      "image/png": "[encoded data removed]",
      "text/plain": [
       "<Figure size 640x480 with 1 Axes>"
      ]
     },
     "metadata": {},
     "output_type": "display_data"
    }
   ],
   "source": [
    "def plot_boundary(model):\n",
    "\n",
    "    w1 = model.linear1.weight[0][0].detach()\n",
    "    w2 = model.linear1.weight[0][1].detach()\n",
    "    b = model.linear1.bias[0].detach()\n",
    "\n",
    "    x1_min = -1000\n",
    "    x2_min = (-(w1 * x1_min) - b) / w2\n",
    "\n",
    "    x1_max = 1000\n",
    "    x2_max = (-(w1 * x1_max) - b) / w2\n",
    "\n",
    "    sns.scatterplot(x=x0, y=x1, hue=y)\n",
    "    plt.title(\"PCA Projection\")\n",
    "    plt.xlabel(\"PCA 1\")\n",
    "    plt.ylabel(\"PCA 2\")\n",
    "    plt.xticks([])\n",
    "    plt.yticks([])\n",
    "    plt.plot([x1_min, x1_max], [x2_min, x2_max], color=\"k\", label=\"Classification\", linestyle=\"--\")\n",
    "    plt.legend()\n",
    "    plt.show()\n",
    "    \n",
    "plot_boundary(model)"
   ]
  },
  {
   "cell_type": "markdown",
   "metadata": {},
   "source": [
    "**Save model**"
   ]
  },
  {
   "cell_type": "code",
   "execution_count": 25,
   "metadata": {},
   "outputs": [],
   "source": [
    "# Modelo completo\n",
    "FILE = \"models/model_wplay.pth\"\n",
    "torch.save(model, FILE)"
   ]
  },
  {
   "cell_type": "markdown",
   "metadata": {},
   "source": [
    "**Load model**"
   ]
  },
  {
   "cell_type": "code",
   "execution_count": 26,
   "metadata": {},
   "outputs": [
    {
     "name": "stdout",
     "output_type": "stream",
     "text": [
      "Parameter containing:\n",
      "tensor([[-0.2423, -0.0925, -0.3945, -0.1205, -0.2298, -0.2241, -0.3248, -0.0139,\n",
      "         -0.1158,  0.1533,  0.2018,  0.0701,  0.1295,  0.3831,  0.0723,  0.1675,\n",
      "          0.0042, -0.0160,  0.0966,  0.2506, -0.4861,  0.2536, -0.3742,  0.1441,\n",
      "         -0.5729,  0.9113, -0.4987,  0.6248,  0.0315]], requires_grad=True)\n",
      "Parameter containing:\n",
      "tensor([0.3972], requires_grad=True)\n"
     ]
    }
   ],
   "source": [
    "model = torch.load(FILE)\n",
    "model.eval()\n",
    "\n",
    "# un parametro para cada variable predictora\n",
    "for param in model.parameters(): \n",
    "    print(param)"
   ]
  },
  {
   "cell_type": "markdown",
   "metadata": {},
   "source": [
    "**Continue training**"
   ]
  },
  {
   "cell_type": "code",
   "execution_count": null,
   "metadata": {},
   "outputs": [],
   "source": [
    "checkpoint = {\n",
    "    \"epoch\": 90,\n",
    "    \"model_state\": model.state_dict(),\n",
    "    \"optim_state\": optimizer.state_dict()\n",
    "}"
   ]
  }
 ],
 "metadata": {
  "kernelspec": {
   "display_name": "pytorch",
   "language": "python",
   "name": "python3"
  },
  "language_info": {
   "codemirror_mode": {
    "name": "ipython",
    "version": 3
   },
   "file_extension": ".py",
   "mimetype": "text/x-python",
   "name": "python",
   "nbconvert_exporter": "python",
   "pygments_lexer": "ipython3",
   "version": "3.11.3"
  },
  "orig_nbformat": 4
 },
 "nbformat": 4,
 "nbformat_minor": 2
}
